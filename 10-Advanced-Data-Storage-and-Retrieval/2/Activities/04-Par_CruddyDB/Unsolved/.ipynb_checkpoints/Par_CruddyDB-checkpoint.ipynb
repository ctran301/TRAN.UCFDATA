{
 "cells": [
  {
   "cell_type": "code",
   "execution_count": 1,
   "metadata": {},
   "outputs": [],
   "source": [
    "# Import SQL Alchemy\n",
    "from sqlalchemy import create_engine\n",
    "\n",
    "# Import and establish Base for which classes will be constructed \n",
    "from sqlalchemy.ext.declarative import declarative_base\n",
    "Base = declarative_base()\n",
    "\n",
    "# Import modules to declare columns and column data types\n",
    "from sqlalchemy import Column, Integer, String, Float "
   ]
  },
  {
   "cell_type": "code",
   "execution_count": 2,
   "metadata": {
    "deletable": false,
    "nbgrader": {
     "checksum": "8af1cb904695d814b2f78e98ad1e76d6",
     "grade": false,
     "grade_id": "cell-55d75c21dbb2c337",
     "locked": false,
     "schema_version": 1,
     "solution": true
    }
   },
   "outputs": [],
   "source": [
    "# Create the Garbage class\n",
    "# YOUR CODE HERE\n",
    "\n",
    "class garbage (Base):\n",
    "    __tablename__ = 'garbage_collection'\n",
    "    id = Column(Integer, primary_key= True)\n",
    "    item = Column(String)\n",
    "    weight = Column(Float)\n",
    "    collector = Column(String)\n",
    "    \n"
   ]
  },
  {
   "cell_type": "code",
   "execution_count": 3,
   "metadata": {
    "deletable": false,
    "nbgrader": {
     "checksum": "59c29987b266a9c395699d181bb087a6",
     "grade": false,
     "grade_id": "cell-4230ec6995aad3fd",
     "locked": false,
     "schema_version": 1,
     "solution": true
    }
   },
   "outputs": [],
   "source": [
    "# Create a connection to a SQLite database\n",
    "# YOUR CODE HERE\n",
    "engine = create_engine('sqlite:///garbage_collection.sqlite')\n"
   ]
  },
  {
   "cell_type": "code",
   "execution_count": 4,
   "metadata": {},
   "outputs": [],
   "source": [
    "# Create the garbage_collection table within the database\n",
    "Base.metadata.create_all(engine)"
   ]
  },
  {
   "cell_type": "code",
   "execution_count": 5,
   "metadata": {},
   "outputs": [],
   "source": [
    "# To push the objects made and query the server we use a Session object\n",
    "from sqlalchemy.orm import Session\n",
    "session = Session(bind=engine)"
   ]
  },
  {
   "cell_type": "code",
   "execution_count": 6,
   "metadata": {
    "deletable": false,
    "nbgrader": {
     "checksum": "eea32595c61b7a5ae6d9d0e22b1d18df",
     "grade": false,
     "grade_id": "cell-544743e14f0f9a25",
     "locked": false,
     "schema_version": 1,
     "solution": true
    }
   },
   "outputs": [],
   "source": [
    "# Create some instances of the Garbage class\n",
    "# YOUR CODE HERE\n",
    "\n",
    "session.add(garbage(item = 'Emil R', weight = 500, collector = 'Crane'))\n",
    "session.add(garbage(item = 'banana', weight = 20, collector = 'Forklift'))\n",
    "session.add(garbage(item = 'bag', weight = 1500, collector = 'Crane'))"
   ]
  },
  {
   "cell_type": "code",
   "execution_count": 7,
   "metadata": {
    "deletable": false,
    "nbgrader": {
     "checksum": "2e13e07533fce1b94f2693a49958066b",
     "grade": false,
     "grade_id": "cell-7ead20b8cbdbfb73",
     "locked": false,
     "schema_version": 1,
     "solution": true
    }
   },
   "outputs": [
    {
     "data": {
      "text/plain": [
       "[(1, 'Emil R', 500, 'Crane'),\n",
       " (2, 'Nemo', 20, 'Forklift'),\n",
       " (3, 'Roger', 1500, 'Crane'),\n",
       " (4, 'Emil R', 500, 'Crane'),\n",
       " (5, 'banana', 20, 'Forklift'),\n",
       " (6, 'bag', 1500, 'Crane'),\n",
       " (7, 'Emil R', 500, 'Crane'),\n",
       " (8, 'banana', 20, 'Forklift'),\n",
       " (9, 'bag', 1500, 'Crane')]"
      ]
     },
     "execution_count": 7,
     "metadata": {},
     "output_type": "execute_result"
    }
   ],
   "source": [
    "# Add these objects to the session\n",
    "# YOUR CODE HERE\n",
    "\n",
    "session.new\n",
    "session.commit()\n",
    "\n",
    "engine.execute('select * from garbage_collection').fetchall()\n"
   ]
  },
  {
   "cell_type": "code",
   "execution_count": 23,
   "metadata": {
    "deletable": false,
    "nbgrader": {
     "checksum": "d4a7717476260b79dd53ffdcee0b352e",
     "grade": false,
     "grade_id": "cell-a66cda367a0b1515",
     "locked": false,
     "schema_version": 1,
     "solution": true
    }
   },
   "outputs": [
    {
     "ename": "TypeError",
     "evalue": "filter_by() takes 1 positional argument but 2 were given",
     "output_type": "error",
     "traceback": [
      "\u001b[1;31m---------------------------------------------------------------------------\u001b[0m",
      "\u001b[1;31mTypeError\u001b[0m                                 Traceback (most recent call last)",
      "\u001b[1;32m<ipython-input-23-adcb580e4f76>\u001b[0m in \u001b[0;36m<module>\u001b[1;34m()\u001b[0m\n\u001b[0;32m      2\u001b[0m \u001b[1;31m# YOUR CODE HERE\u001b[0m\u001b[1;33m\u001b[0m\u001b[1;33m\u001b[0m\u001b[0m\n\u001b[0;32m      3\u001b[0m \u001b[1;33m\u001b[0m\u001b[0m\n\u001b[1;32m----> 4\u001b[1;33m \u001b[0mupdate1\u001b[0m \u001b[1;33m=\u001b[0m \u001b[0msession\u001b[0m\u001b[1;33m.\u001b[0m\u001b[0mquery\u001b[0m\u001b[1;33m(\u001b[0m\u001b[0mgarbage\u001b[0m\u001b[1;33m)\u001b[0m\u001b[1;33m.\u001b[0m\u001b[0mfilter_by\u001b[0m\u001b[1;33m(\u001b[0m\u001b[0mgarbage\u001b[0m\u001b[1;33m.\u001b[0m\u001b[0mid\u001b[0m \u001b[1;33m==\u001b[0m \u001b[1;36m2\u001b[0m\u001b[1;33m)\u001b[0m\u001b[1;33m.\u001b[0m\u001b[0mfirst\u001b[0m\u001b[1;33m(\u001b[0m\u001b[1;33m)\u001b[0m\u001b[1;33m\u001b[0m\u001b[0m\n\u001b[0m\u001b[0;32m      5\u001b[0m \u001b[0mupdate1\u001b[0m\u001b[1;33m.\u001b[0m\u001b[0mitem\u001b[0m \u001b[1;33m=\u001b[0m \u001b[1;34m'UNIVERSITY OF FLORIDA'\u001b[0m\u001b[1;33m\u001b[0m\u001b[0m\n\u001b[0;32m      6\u001b[0m \u001b[1;33m\u001b[0m\u001b[0m\n",
      "\u001b[1;31mTypeError\u001b[0m: filter_by() takes 1 positional argument but 2 were given"
     ]
    }
   ],
   "source": [
    "# Update two rows of data\n",
    "# YOUR CODE HERE\n",
    "\n",
    "update1 = session.query(garbage).filter_by(garbage.id == 2).first()\n",
    "update1.item = 'UNIVERSITY OF FLORIDA' \n",
    "\n",
    "update2 = session.query(garbage).filter_by(garbage.id == 3).first()\n",
    "update2.weight = 6000 \n",
    "\n",
    "session.dirty\n",
    "\n",
    "session.commit()\n",
    "\n",
    "engine.execute('select * from garbage_collection').fetchall()"
   ]
  },
  {
   "cell_type": "code",
   "execution_count": 9,
   "metadata": {
    "deletable": false,
    "nbgrader": {
     "checksum": "fc1a996c75d8d3b91c9f7d1c7a74feee",
     "grade": false,
     "grade_id": "cell-2cee82afd03d3679",
     "locked": false,
     "schema_version": 1,
     "solution": true
    }
   },
   "outputs": [],
   "source": [
    "# Delete the row with the lowest weight\n",
    "# YOUR CODE HERE"
   ]
  },
  {
   "cell_type": "code",
   "execution_count": 10,
   "metadata": {
    "deletable": false,
    "nbgrader": {
     "checksum": "ecc333c6906d189152b758d27e331e36",
     "grade": false,
     "grade_id": "cell-23672c755f55dd5d",
     "locked": false,
     "schema_version": 1,
     "solution": true
    }
   },
   "outputs": [],
   "source": [
    "# Collect all of the items and print their information\n",
    "# YOUR CODE HERE"
   ]
  }
 ],
 "metadata": {
  "kernelspec": {
   "display_name": "Python 3",
   "language": "python",
   "name": "python3"
  },
  "language_info": {
   "codemirror_mode": {
    "name": "ipython",
    "version": 3
   },
   "file_extension": ".py",
   "mimetype": "text/x-python",
   "name": "python",
   "nbconvert_exporter": "python",
   "pygments_lexer": "ipython3",
   "version": "3.6.5"
  },
  "varInspector": {
   "cols": {
    "lenName": 16,
    "lenType": 16,
    "lenVar": 40
   },
   "kernels_config": {
    "python": {
     "delete_cmd_postfix": "",
     "delete_cmd_prefix": "del ",
     "library": "var_list.py",
     "varRefreshCmd": "print(var_dic_list())"
    },
    "r": {
     "delete_cmd_postfix": ") ",
     "delete_cmd_prefix": "rm(",
     "library": "var_list.r",
     "varRefreshCmd": "cat(var_dic_list()) "
    }
   },
   "types_to_exclude": [
    "module",
    "function",
    "builtin_function_or_method",
    "instance",
    "_Feature"
   ],
   "window_display": false
  }
 },
 "nbformat": 4,
 "nbformat_minor": 2
}
