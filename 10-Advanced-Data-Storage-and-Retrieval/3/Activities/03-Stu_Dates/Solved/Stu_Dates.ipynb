{
 "cells": [
  {
   "cell_type": "markdown",
   "metadata": {
    "slideshow": {
     "slide_type": "slide"
    }
   },
   "source": [
    "# SQLAlchemy, Sqlite, and Dates"
   ]
  },
  {
   "cell_type": "markdown",
   "metadata": {
    "slideshow": {
     "slide_type": "slide"
    }
   },
   "source": [
    "## Setup"
   ]
  },
  {
   "cell_type": "code",
   "execution_count": 1,
   "metadata": {},
   "outputs": [],
   "source": [
    "import matplotlib\n",
    "from matplotlib import style\n",
    "style.use('fivethirtyeight')\n",
    "import matplotlib.pyplot as plt"
   ]
  },
  {
   "cell_type": "code",
   "execution_count": 2,
   "metadata": {},
   "outputs": [],
   "source": [
    "import pandas as pd"
   ]
  },
  {
   "cell_type": "code",
   "execution_count": 3,
   "metadata": {
    "slideshow": {
     "slide_type": "subslide"
    }
   },
   "outputs": [],
   "source": [
    "# Python SQL toolkit and Object Relational Mapper\n",
    "import sqlalchemy\n",
    "from sqlalchemy.ext.automap import automap_base\n",
    "from sqlalchemy.orm import Session\n",
    "from sqlalchemy import create_engine, inspect, func"
   ]
  },
  {
   "cell_type": "code",
   "execution_count": 4,
   "metadata": {
    "slideshow": {
     "slide_type": "subslide"
    }
   },
   "outputs": [],
   "source": [
    "engine = create_engine(\"sqlite:///../Resources/dow.sqlite\", echo=False)"
   ]
  },
  {
   "cell_type": "code",
   "execution_count": 5,
   "metadata": {
    "slideshow": {
     "slide_type": "subslide"
    }
   },
   "outputs": [
    {
     "data": {
      "text/plain": [
       "[(1, 1, 'AA', '2011-01-07', 15.82, 16.72, 15.78, 16.42, 239655616, None),\n",
       " (2, 1, 'AA', '2011-01-14', 16.71, 16.71, 15.64, 15.97, 242963398, None),\n",
       " (3, 1, 'AA', '2011-01-21', 16.19, 16.38, 15.6, 15.79, 138428495, None),\n",
       " (4, 1, 'AA', '2011-01-28', 15.87, 16.63, 15.82, 16.13, 151379173, None),\n",
       " (5, 1, 'AA', '2011-02-04', 16.18, 17.39, 16.18, 17.14, 154387761, None)]"
      ]
     },
     "execution_count": 5,
     "metadata": {},
     "output_type": "execute_result"
    }
   ],
   "source": [
    "engine.execute('SELECT * FROM dow LIMIT 5').fetchall()"
   ]
  },
  {
   "cell_type": "code",
   "execution_count": 6,
   "metadata": {},
   "outputs": [
    {
     "name": "stdout",
     "output_type": "stream",
     "text": [
      "id INTEGER\n",
      "quarter INTEGER\n",
      "stock TEXT\n",
      "date TEXT\n",
      "open_price FLOAT\n",
      "high_price FLOAT\n",
      "low_price FLOAT\n",
      "close_price FLOAT\n",
      "volume INTEGER\n",
      "percent_change FLOAT\n"
     ]
    }
   ],
   "source": [
    "inspector = inspect(engine)\n",
    "columns = inspector.get_columns('dow')\n",
    "for c in columns:\n",
    "    print(c['name'], c[\"type\"])"
   ]
  },
  {
   "cell_type": "markdown",
   "metadata": {
    "slideshow": {
     "slide_type": "slide"
    }
   },
   "source": [
    "## Reflect and query dates"
   ]
  },
  {
   "cell_type": "code",
   "execution_count": 7,
   "metadata": {
    "slideshow": {
     "slide_type": "subslide"
    }
   },
   "outputs": [],
   "source": [
    "# Reflect Database into ORM class\n",
    "Base = automap_base()\n",
    "Base.prepare(engine, reflect=True)\n",
    "Dow = Base.classes.dow"
   ]
  },
  {
   "cell_type": "code",
   "execution_count": 8,
   "metadata": {
    "slideshow": {
     "slide_type": "fragment"
    }
   },
   "outputs": [],
   "source": [
    "session = Session(engine)"
   ]
  },
  {
   "cell_type": "markdown",
   "metadata": {
    "slideshow": {
     "slide_type": "subslide"
    }
   },
   "source": [
    "## Analysis"
   ]
  },
  {
   "cell_type": "markdown",
   "metadata": {},
   "source": [
    "Analyze the Average prices (open, high, low, close) for all stocks in the Month of May"
   ]
  },
  {
   "cell_type": "code",
   "execution_count": 18,
   "metadata": {
    "nbgrader": {
     "grade": false,
     "grade_id": "cell-a5033f5b305f26d6",
     "locked": false,
     "schema_version": 1,
     "solution": true
    }
   },
   "outputs": [
    {
     "data": {
      "text/plain": [
       "[('AA'),\n",
       " ('AXP'),\n",
       " ('BA'),\n",
       " ('BAC'),\n",
       " ('CAT'),\n",
       " ('CSCO'),\n",
       " ('CVX'),\n",
       " ('DD'),\n",
       " ('DIS'),\n",
       " ('GE'),\n",
       " ('HD'),\n",
       " ('HPQ'),\n",
       " ('IBM'),\n",
       " ('INTC'),\n",
       " ('JNJ'),\n",
       " ('JPM'),\n",
       " ('KO'),\n",
       " ('KRFT'),\n",
       " ('MCD'),\n",
       " ('MMM'),\n",
       " ('MRK'),\n",
       " ('MSFT'),\n",
       " ('PFE'),\n",
       " ('PG'),\n",
       " ('T'),\n",
       " ('TRV'),\n",
       " ('UTX'),\n",
       " ('VZ'),\n",
       " ('WMT'),\n",
       " ('XOM')]"
      ]
     },
     "execution_count": 18,
     "metadata": {},
     "output_type": "execute_result"
    }
   ],
   "source": [
    "# Query for the stock and average prices (open, high, low, close) \n",
    "# for all stock in the month of May\n",
    "# Sort the result by stock name\n",
    "sel = [Dow.stock, \n",
    "       func.avg(Dow.open_price), \n",
    "       func.avg(Dow.high_price), \n",
    "       func.avg(Dow.low_price), \n",
    "       func.avg(Dow.close_price)]\n",
    "may_averages = session.query(Dow.stock).\\\n",
    "    filter(func.strftime(\"%m\", Dow.date) == \"05\").\\\n",
    "    group_by(Dow.stock).\\\n",
    "    order_by(Dow.stock).all()\n",
    "may_averages"
   ]
  },
  {
   "cell_type": "code",
   "execution_count": 10,
   "metadata": {
    "nbgrader": {
     "grade": false,
     "grade_id": "cell-8f14868d3f8f3f50",
     "locked": false,
     "schema_version": 1,
     "solution": true
    }
   },
   "outputs": [
    {
     "data": {
      "image/png": "[encoded data removed]",
      "text/plain": [
       "<Figure size 432x288 with 1 Axes>"
      ]
     },
     "metadata": {},
     "output_type": "display_data"
    }
   ],
   "source": [
    "# Plot the Results in a Matplotlib bar chart\n",
    "df = pd.DataFrame(may_averages, columns=['stock', 'open_avg', 'high_avg', 'low_avg', 'close_avg'])\n",
    "df.set_index('stock', inplace=True)\n",
    "df.plot.bar()\n",
    "plt.tight_layout()\n",
    "plt.show()\n"
   ]
  },
  {
   "cell_type": "markdown",
   "metadata": {},
   "source": [
    "### Bonus\n",
    "Calculate the high-low peak-to-peak (PTP) values for `IBM` stock after `2011-05-31`. \n",
    "* Note: high-low PTP is calculated using `high_price` - `low_price`\n",
    "* Use a DateTime.date object in the query filter\n",
    "* Use a list comprehension or numpy's ravel method to unpack the query's list of tuples into a list of PTP values.\n",
    "* Use matplotlib to plot the PTP values as a boxplot"
   ]
  },
  {
   "cell_type": "code",
   "execution_count": 33,
   "metadata": {
    "nbgrader": {
     "grade": false,
     "grade_id": "cell-91ca80cc05b37ea7",
     "locked": false,
     "schema_version": 1,
     "solution": true
    },
    "slideshow": {
     "slide_type": "fragment"
    }
   },
   "outputs": [
    {
     "data": {
      "text/plain": [
       "[2.2200000000000273,\n",
       " 4.0,\n",
       " 7.400000000000006,\n",
       " 9.019999999999982,\n",
       " 5.519999999999982,\n",
       " 3.069999999999993,\n",
       " 2.319999999999993,\n",
       " 5.22999999999999,\n",
       " 4.900000000000006,\n",
       " 8.870000000000005,\n",
       " 10.269999999999982,\n",
       " 5.670000000000016,\n",
       " 3.299999999999983,\n",
       " 1.5900000000000034,\n",
       " 4.039999999999992,\n",
       " 6.090000000000003,\n",
       " 5.77000000000001,\n",
       " 6.039999999999992,\n",
       " 4.950000000000017,\n",
       " 4.8799999999999955,\n",
       " 2.6999999999999886,\n",
       " 5.759999999999991,\n",
       " 3.0900000000000034,\n",
       " 3.579999999999984,\n",
       " 3.219999999999999]"
      ]
     },
     "execution_count": 33,
     "metadata": {},
     "output_type": "execute_result"
    }
   ],
   "source": [
    "# Design a query to calculate the PTP for stock `IBM` after May, 2011\n",
    "import datetime as dt\n",
    "import numpy as np\n",
    "\n",
    "date = dt.datetime(2011, 1, 1)\n",
    "\n",
    "results = session.query(Dow.high_price - Dow.low_price).\\\n",
    "    filter(Dow.date > date).filter(Dow.stock == 'IBM').all()\n",
    "    \n",
    "ptps = list(np.ravel(results))\n",
    "\n",
    "# List Comprehension Solution\n",
    "# ptps = [result[0] for result in results]\n",
    "\n",
    "ptps"
   ]
  },
  {
   "cell_type": "code",
   "execution_count": 34,
   "metadata": {
    "nbgrader": {
     "grade": false,
     "grade_id": "cell-d0b673b76e86e46e",
     "locked": false,
     "schema_version": 1,
     "solution": true
    }
   },
   "outputs": [
    {
     "data": {
      "image/png": "[encoded data removed]",
      "text/plain": [
       "<Figure size 432x288 with 1 Axes>"
      ]
     },
     "metadata": {},
     "output_type": "display_data"
    }
   ],
   "source": [
    "# Load the query into a dataframe, set the index to the date, and plot the ptps\n",
    "import numpy as np\n",
    "\n",
    "fig, ax = plt.subplots()\n",
    "\n",
    "x = range(len(ptps))\n",
    "ax.boxplot(ptps, patch_artist=True)\n",
    "ax.set_title('IBM PTPs')\n",
    "fig.tight_layout()\n",
    "plt.show()\n"
   ]
  },
  {
   "cell_type": "code",
   "execution_count": null,
   "metadata": {},
   "outputs": [],
   "source": []
  }
 ],
 "metadata": {
  "celltoolbar": "Create Assignment",
  "kernelspec": {
   "display_name": "Python 3",
   "language": "python",
   "name": "python3"
  },
  "language_info": {
   "codemirror_mode": {
    "name": "ipython",
    "version": 3
   },
   "file_extension": ".py",
   "mimetype": "text/x-python",
   "name": "python",
   "nbconvert_exporter": "python",
   "pygments_lexer": "ipython3",
   "version": "3.6.5"
  },
  "varInspector": {
   "cols": {
    "lenName": 16,
    "lenType": 16,
    "lenVar": 40
   },
   "kernels_config": {
    "python": {
     "delete_cmd_postfix": "",
     "delete_cmd_prefix": "del ",
     "library": "var_list.py",
     "varRefreshCmd": "print(var_dic_list())"
    },
    "r": {
     "delete_cmd_postfix": ") ",
     "delete_cmd_prefix": "rm(",
     "library": "var_list.r",
     "varRefreshCmd": "cat(var_dic_list()) "
    }
   },
   "types_to_exclude": [
    "module",
    "function",
    "builtin_function_or_method",
    "instance",
    "_Feature"
   ],
   "window_display": false
  }
 },
 "nbformat": 4,
 "nbformat_minor": 2
}
